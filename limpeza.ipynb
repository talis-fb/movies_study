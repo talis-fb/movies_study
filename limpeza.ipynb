{
 "cells": [
  {
   "cell_type": "code",
   "execution_count": 1,
   "id": "cd6ff4e0-a173-4df4-977a-8dbf55e851c3",
   "metadata": {},
   "outputs": [],
   "source": [
    "import os\n",
    "import json\n",
    "import pandas as pd\n",
    "import matplotlib.pyplot as plt\n",
    "import numpy as np\n",
    "import seaborn as sns"
   ]
  },
  {
   "cell_type": "code",
   "execution_count": 2,
   "id": "27b4d6b0-dc8c-490a-b144-683e57d5dc98",
   "metadata": {},
   "outputs": [],
   "source": [
    "df = pd.read_csv(\"./bases/complete_db.csv\")"
   ]
  },
  {
   "cell_type": "code",
   "execution_count": 3,
   "id": "b6297c8e-c274-4e2f-9a9b-b42ed31c18d7",
   "metadata": {},
   "outputs": [],
   "source": [
    "df = df[df[\"status\"] == \"Released\"]"
   ]
  },
  {
   "cell_type": "code",
   "execution_count": 4,
   "id": "ed74f0c4-3d48-4e6d-9cab-3256b48e280e",
   "metadata": {},
   "outputs": [
    {
     "data": {
      "text/plain": [
       "Index(['Unnamed: 0', 'id', 'value_x', 'Title', 'Year', 'Rated', 'Released',\n",
       "       'Runtime', 'Genre', 'Director', 'Writer', 'Actors', 'Plot', 'Language',\n",
       "       'Country', 'Awards', 'Poster', 'Ratings', 'Metascore', 'imdbRating',\n",
       "       'imdbVotes', 'imdbID', 'Type', 'DVD', 'BoxOffice', 'Production',\n",
       "       'Website', 'Response', 'Season', 'Episode', 'seriesID', 'Error', 'id_x',\n",
       "       'imdb_id', 'value_y', 'adult', 'backdrop_path', 'belongs_to_collection',\n",
       "       'budget', 'genres', 'homepage', 'id_y', 'origin_country',\n",
       "       'original_language', 'original_title', 'overview', 'popularity',\n",
       "       'poster_path', 'production_companies', 'production_countries',\n",
       "       'release_date', 'revenue', 'runtime', 'spoken_languages', 'status',\n",
       "       'tagline', 'title', 'video', 'vote_average', 'vote_count',\n",
       "       'belongs_to_collection.id', 'belongs_to_collection.name',\n",
       "       'belongs_to_collection.poster_path',\n",
       "       'belongs_to_collection.backdrop_path'],\n",
       "      dtype='object')"
      ]
     },
     "execution_count": 4,
     "metadata": {},
     "output_type": "execute_result"
    }
   ],
   "source": [
    "df.columns"
   ]
  },
  {
   "cell_type": "code",
   "execution_count": 5,
   "id": "9e4731b4-758e-4118-abf3-fd2f8b16887a",
   "metadata": {},
   "outputs": [],
   "source": [
    "#columns_to_ignore = [\n",
    "#    \"Poster\", \"Awards\", \"Season\",\"video\",\"DVD\",\n",
    "#    \"homepage\",\"poster_path\",\"tagline\",\"Website\",\"Plot\",\"Episode\",\"Season\",\"overview\",   \n",
    "#]\n",
    "\n",
    "columns_to_use = {\n",
    "    \"Title\", \"Year\", \"Ratings\", \"runtime\", \"Genre\", \n",
    "    \"Ratings\", \"budget\", 'revenue', 'popularity', \"production_companies\", \"BoxOffice\",\n",
    "}\n",
    "\n",
    "columns_to_drop = set(df.columns) - columns_to_use\n",
    "\n",
    "df = df.drop(columns_to_drop, axis=1)"
   ]
  },
  {
   "cell_type": "code",
   "execution_count": 6,
   "id": "a00474fc-e5e3-47e3-acb5-0dfdccb4ac0f",
   "metadata": {},
   "outputs": [],
   "source": [
    "import ast\n",
    "\n",
    "# Function to convert list of dicts into a dict\n",
    "def extract_ratings(ratings_list):\n",
    "    return {item['Source']: item['Value'] for item in ratings_list}\n",
    "\n",
    "#df['Ratings'].apply(json.loads).apply(extract_ratings).apply(pd.Series)\n",
    "\n",
    "df = pd.concat([\n",
    "    df.drop(columns=[\"Ratings\"]),\n",
    "    df['Ratings'].apply(json.loads).apply(extract_ratings).apply(pd.Series)\n",
    "], axis=1)"
   ]
  },
  {
   "cell_type": "code",
   "execution_count": 7,
   "id": "1c2fbdfe-b304-489b-b2d1-7905baac6f71",
   "metadata": {},
   "outputs": [],
   "source": [
    "def extract_companies(companies_list):\n",
    "    names = [item['name'] for item in companies_list]\n",
    "    return ','.join(names)\n",
    "\n",
    "df[\"production_companies\"] = df[\"production_companies\"].apply(json.loads).apply(extract_companies)"
   ]
  },
  {
   "cell_type": "code",
   "execution_count": 8,
   "id": "0b8ba390-fee7-4bac-8670-3382f18a1ed1",
   "metadata": {},
   "outputs": [],
   "source": [
    "df = df[(df['budget'] > 0) & (df['revenue'] > 0)]\n",
    "df['budget'] = df['budget']/1000_000\n",
    "df['revenue'] = df['revenue']/1000_000\n"
   ]
  },
  {
   "cell_type": "code",
   "execution_count": 9,
   "id": "afcb5084",
   "metadata": {},
   "outputs": [],
   "source": [
    "if 'Internet Movie Database' in df.columns:\n",
    "    df['Internet Movie Database'] = df['Internet Movie Database'].str.replace('/10', '').astype(float) * 10\n",
    "\n",
    "if 'Rotten Tomatoes' in df.columns:\n",
    "    df['Rotten Tomatoes'] = df['Rotten Tomatoes'].str.replace('%', '').astype(float)\n",
    "\n",
    "if 'Metacritic' in df.columns:\n",
    "    df['Metacritic'] = df['Metacritic'].str.replace('/100', '').astype(float)\n"
   ]
  },
  {
   "cell_type": "code",
   "execution_count": 10,
   "id": "228ab861",
   "metadata": {},
   "outputs": [
    {
     "data": {
      "application/vnd.microsoft.datawrangler.viewer.v0+json": {
       "columns": [
        {
         "name": "index",
         "rawType": "int64",
         "type": "integer"
        },
        {
         "name": "Title",
         "rawType": "object",
         "type": "string"
        },
        {
         "name": "Year",
         "rawType": "int64",
         "type": "integer"
        },
        {
         "name": "BoxOffice",
         "rawType": "object",
         "type": "string"
        },
        {
         "name": "budget",
         "rawType": "float64",
         "type": "float"
        },
        {
         "name": "popularity",
         "rawType": "float64",
         "type": "float"
        },
        {
         "name": "production_companies",
         "rawType": "object",
         "type": "string"
        },
        {
         "name": "revenue",
         "rawType": "float64",
         "type": "float"
        },
        {
         "name": "runtime",
         "rawType": "int64",
         "type": "integer"
        },
        {
         "name": "Internet Movie Database",
         "rawType": "float64",
         "type": "float"
        },
        {
         "name": "Rotten Tomatoes",
         "rawType": "float64",
         "type": "float"
        },
        {
         "name": "Metacritic",
         "rawType": "float64",
         "type": "float"
        },
        {
         "name": "Genre",
         "rawType": "object",
         "type": "string"
        }
       ],
       "conversionMethod": "pd.DataFrame",
       "ref": "591b429a-e442-4423-aa66-515182973405",
       "rows": [
        [
         "11",
         "The Last Breath",
         "2024",
         "$3,214",
         "0.03",
         "4.5953",
         "Anamorphic Films,Filmgate Films,Picaro Films,Freebie Films",
         "0.27365",
         "96",
         "47.0",
         "30.0",
         null,
         "Horror"
        ],
        [
         "11",
         "The Last Breath",
         "2024",
         "$3,214",
         "0.03",
         "4.5953",
         "Anamorphic Films,Filmgate Films,Picaro Films,Freebie Films",
         "0.27365",
         "96",
         "47.0",
         "30.0",
         null,
         " Thriller"
        ],
        [
         "13",
         "Ezra",
         "2023",
         "$2,631,460",
         "5.0",
         "6.5663",
         "Closer Media,Wayfarer Studios",
         "3.046741",
         "100",
         "65.0",
         "70.0",
         null,
         "Comedy"
        ],
        [
         "13",
         "Ezra",
         "2023",
         "$2,631,460",
         "5.0",
         "6.5663",
         "Closer Media,Wayfarer Studios",
         "3.046741",
         "100",
         "65.0",
         "70.0",
         null,
         " Drama"
        ],
        [
         "18",
         "The Kill Room",
         "2023",
         "$139,358",
         "50.0",
         "6.5394",
         "Yale Productions,Idiot Savant Pictures,Untitled Entertainment,Such Content,BK Studios,BondIt Media Capital,Head Gear Films,Metrol Technology,Slated,SuperNova Capital,Complex Corp,Great Escape",
         "0.476375",
         "98",
         "55.0",
         "59.0",
         "58.0",
         "Comedy"
        ]
       ],
       "shape": {
        "columns": 12,
        "rows": 5
       }
      },
      "text/html": [
       "<div>\n",
       "<style scoped>\n",
       "    .dataframe tbody tr th:only-of-type {\n",
       "        vertical-align: middle;\n",
       "    }\n",
       "\n",
       "    .dataframe tbody tr th {\n",
       "        vertical-align: top;\n",
       "    }\n",
       "\n",
       "    .dataframe thead th {\n",
       "        text-align: right;\n",
       "    }\n",
       "</style>\n",
       "<table border=\"1\" class=\"dataframe\">\n",
       "  <thead>\n",
       "    <tr style=\"text-align: right;\">\n",
       "      <th></th>\n",
       "      <th>Title</th>\n",
       "      <th>Year</th>\n",
       "      <th>BoxOffice</th>\n",
       "      <th>budget</th>\n",
       "      <th>popularity</th>\n",
       "      <th>production_companies</th>\n",
       "      <th>revenue</th>\n",
       "      <th>runtime</th>\n",
       "      <th>Internet Movie Database</th>\n",
       "      <th>Rotten Tomatoes</th>\n",
       "      <th>Metacritic</th>\n",
       "      <th>Genre</th>\n",
       "    </tr>\n",
       "  </thead>\n",
       "  <tbody>\n",
       "    <tr>\n",
       "      <th>11</th>\n",
       "      <td>The Last Breath</td>\n",
       "      <td>2024</td>\n",
       "      <td>$3,214</td>\n",
       "      <td>0.03</td>\n",
       "      <td>4.5953</td>\n",
       "      <td>Anamorphic Films,Filmgate Films,Picaro Films,F...</td>\n",
       "      <td>0.273650</td>\n",
       "      <td>96</td>\n",
       "      <td>47.0</td>\n",
       "      <td>30.0</td>\n",
       "      <td>NaN</td>\n",
       "      <td>Horror</td>\n",
       "    </tr>\n",
       "    <tr>\n",
       "      <th>11</th>\n",
       "      <td>The Last Breath</td>\n",
       "      <td>2024</td>\n",
       "      <td>$3,214</td>\n",
       "      <td>0.03</td>\n",
       "      <td>4.5953</td>\n",
       "      <td>Anamorphic Films,Filmgate Films,Picaro Films,F...</td>\n",
       "      <td>0.273650</td>\n",
       "      <td>96</td>\n",
       "      <td>47.0</td>\n",
       "      <td>30.0</td>\n",
       "      <td>NaN</td>\n",
       "      <td>Thriller</td>\n",
       "    </tr>\n",
       "    <tr>\n",
       "      <th>13</th>\n",
       "      <td>Ezra</td>\n",
       "      <td>2023</td>\n",
       "      <td>$2,631,460</td>\n",
       "      <td>5.00</td>\n",
       "      <td>6.5663</td>\n",
       "      <td>Closer Media,Wayfarer Studios</td>\n",
       "      <td>3.046741</td>\n",
       "      <td>100</td>\n",
       "      <td>65.0</td>\n",
       "      <td>70.0</td>\n",
       "      <td>NaN</td>\n",
       "      <td>Comedy</td>\n",
       "    </tr>\n",
       "    <tr>\n",
       "      <th>13</th>\n",
       "      <td>Ezra</td>\n",
       "      <td>2023</td>\n",
       "      <td>$2,631,460</td>\n",
       "      <td>5.00</td>\n",
       "      <td>6.5663</td>\n",
       "      <td>Closer Media,Wayfarer Studios</td>\n",
       "      <td>3.046741</td>\n",
       "      <td>100</td>\n",
       "      <td>65.0</td>\n",
       "      <td>70.0</td>\n",
       "      <td>NaN</td>\n",
       "      <td>Drama</td>\n",
       "    </tr>\n",
       "    <tr>\n",
       "      <th>18</th>\n",
       "      <td>The Kill Room</td>\n",
       "      <td>2023</td>\n",
       "      <td>$139,358</td>\n",
       "      <td>50.00</td>\n",
       "      <td>6.5394</td>\n",
       "      <td>Yale Productions,Idiot Savant Pictures,Untitle...</td>\n",
       "      <td>0.476375</td>\n",
       "      <td>98</td>\n",
       "      <td>55.0</td>\n",
       "      <td>59.0</td>\n",
       "      <td>58.0</td>\n",
       "      <td>Comedy</td>\n",
       "    </tr>\n",
       "  </tbody>\n",
       "</table>\n",
       "</div>"
      ],
      "text/plain": [
       "              Title  Year   BoxOffice  budget  popularity  \\\n",
       "11  The Last Breath  2024      $3,214    0.03      4.5953   \n",
       "11  The Last Breath  2024      $3,214    0.03      4.5953   \n",
       "13             Ezra  2023  $2,631,460    5.00      6.5663   \n",
       "13             Ezra  2023  $2,631,460    5.00      6.5663   \n",
       "18    The Kill Room  2023    $139,358   50.00      6.5394   \n",
       "\n",
       "                                 production_companies   revenue  runtime  \\\n",
       "11  Anamorphic Films,Filmgate Films,Picaro Films,F...  0.273650       96   \n",
       "11  Anamorphic Films,Filmgate Films,Picaro Films,F...  0.273650       96   \n",
       "13                      Closer Media,Wayfarer Studios  3.046741      100   \n",
       "13                      Closer Media,Wayfarer Studios  3.046741      100   \n",
       "18  Yale Productions,Idiot Savant Pictures,Untitle...  0.476375       98   \n",
       "\n",
       "    Internet Movie Database  Rotten Tomatoes  Metacritic      Genre  \n",
       "11                     47.0             30.0         NaN     Horror  \n",
       "11                     47.0             30.0         NaN   Thriller  \n",
       "13                     65.0             70.0         NaN     Comedy  \n",
       "13                     65.0             70.0         NaN      Drama  \n",
       "18                     55.0             59.0        58.0     Comedy  "
      ]
     },
     "execution_count": 10,
     "metadata": {},
     "output_type": "execute_result"
    }
   ],
   "source": [
    "df = df.drop('Genre', axis=1).join(df['Genre'].str.split(',', expand=True).stack().reset_index(level=1, drop=True).rename('Genre'))\n",
    "df.head()"
   ]
  },
  {
   "cell_type": "code",
   "execution_count": 11,
   "id": "5c8512c4-8087-46d3-9f1d-457d97bb0b0b",
   "metadata": {},
   "outputs": [],
   "source": [
    "df.to_csv(\"bruno_db.csv\", index=False)"
   ]
  }
 ],
 "metadata": {
  "kernelspec": {
   "display_name": ".venv",
   "language": "python",
   "name": "python3"
  },
  "language_info": {
   "codemirror_mode": {
    "name": "ipython",
    "version": 3
   },
   "file_extension": ".py",
   "mimetype": "text/x-python",
   "name": "python",
   "nbconvert_exporter": "python",
   "pygments_lexer": "ipython3",
   "version": "3.13.3"
  }
 },
 "nbformat": 4,
 "nbformat_minor": 5
}
