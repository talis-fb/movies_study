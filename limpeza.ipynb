{
 "cells": [
  {
   "cell_type": "code",
   "execution_count": 1,
   "id": "cd6ff4e0-a173-4df4-977a-8dbf55e851c3",
   "metadata": {},
   "outputs": [],
   "source": [
    "import os\n",
    "import json\n",
    "import pandas as pd\n",
    "import matplotlib.pyplot as plt\n",
    "import numpy as np\n",
    "import seaborn as sns"
   ]
  },
  {
   "cell_type": "code",
   "execution_count": 2,
   "id": "27b4d6b0-dc8c-490a-b144-683e57d5dc98",
   "metadata": {},
   "outputs": [],
   "source": [
    "df = pd.read_csv(\"./bases/complete_db.csv\")"
   ]
  },
  {
   "cell_type": "code",
   "execution_count": 3,
   "id": "b6297c8e-c274-4e2f-9a9b-b42ed31c18d7",
   "metadata": {},
   "outputs": [],
   "source": [
    "df = df[df[\"status\"] == \"Released\"]"
   ]
  },
  {
   "cell_type": "code",
   "execution_count": 4,
   "id": "ed74f0c4-3d48-4e6d-9cab-3256b48e280e",
   "metadata": {},
   "outputs": [
    {
     "data": {
      "text/plain": [
       "Index(['Unnamed: 0', 'id', 'value_x', 'Title', 'Year', 'Rated', 'Released',\n",
       "       'Runtime', 'Genre', 'Director', 'Writer', 'Actors', 'Plot', 'Language',\n",
       "       'Country', 'Awards', 'Poster', 'Ratings', 'Metascore', 'imdbRating',\n",
       "       'imdbVotes', 'imdbID', 'Type', 'DVD', 'BoxOffice', 'Production',\n",
       "       'Website', 'Response', 'Season', 'Episode', 'seriesID', 'Error', 'id_x',\n",
       "       'imdb_id', 'value_y', 'adult', 'backdrop_path', 'belongs_to_collection',\n",
       "       'budget', 'genres', 'homepage', 'id_y', 'origin_country',\n",
       "       'original_language', 'original_title', 'overview', 'popularity',\n",
       "       'poster_path', 'production_companies', 'production_countries',\n",
       "       'release_date', 'revenue', 'runtime', 'spoken_languages', 'status',\n",
       "       'tagline', 'title', 'video', 'vote_average', 'vote_count',\n",
       "       'belongs_to_collection.id', 'belongs_to_collection.name',\n",
       "       'belongs_to_collection.poster_path',\n",
       "       'belongs_to_collection.backdrop_path'],\n",
       "      dtype='object')"
      ]
     },
     "execution_count": 4,
     "metadata": {},
     "output_type": "execute_result"
    }
   ],
   "source": [
    "df.columns"
   ]
  },
  {
   "cell_type": "code",
   "execution_count": 5,
   "id": "9e4731b4-758e-4118-abf3-fd2f8b16887a",
   "metadata": {},
   "outputs": [],
   "source": [
    "#columns_to_ignore = [\n",
    "#    \"Poster\", \"Awards\", \"Season\",\"video\",\"DVD\",\n",
    "#    \"homepage\",\"poster_path\",\"tagline\",\"Website\",\"Plot\",\"Episode\",\"Season\",\"overview\",   \n",
    "#]\n",
    "\n",
    "columns_to_use = {\n",
    "    \"Title\", \"Year\", \"Ratings\", \"runtime\", \"Genre\", \n",
    "    \"Ratings\", \"budget\", 'revenue', 'popularity', \"production_companies\", \"BoxOffice\",\n",
    "}\n",
    "\n",
    "columns_to_drop = set(df.columns) - columns_to_use\n",
    "\n",
    "df = df.drop(columns_to_drop, axis=1)"
   ]
  },
  {
   "cell_type": "code",
   "execution_count": 6,
   "id": "a00474fc-e5e3-47e3-acb5-0dfdccb4ac0f",
   "metadata": {},
   "outputs": [],
   "source": [
    "import ast\n",
    "\n",
    "# Function to convert list of dicts into a dict\n",
    "def extract_ratings(ratings_list):\n",
    "    return {item['Source']: item['Value'] for item in ratings_list}\n",
    "\n",
    "#df['Ratings'].apply(json.loads).apply(extract_ratings).apply(pd.Series)\n",
    "\n",
    "df = pd.concat([\n",
    "    df.drop(columns=[\"Ratings\"]),\n",
    "    df['Ratings'].apply(json.loads).apply(extract_ratings).apply(pd.Series)\n",
    "], axis=1)"
   ]
  },
  {
   "cell_type": "code",
   "execution_count": 7,
   "id": "1c2fbdfe-b304-489b-b2d1-7905baac6f71",
   "metadata": {},
   "outputs": [],
   "source": [
    "def extract_companies(companies_list):\n",
    "    names = [item['name'] for item in companies_list]\n",
    "    return ','.join(names)\n",
    "\n",
    "df[\"production_companies\"] = df[\"production_companies\"].apply(json.loads).apply(extract_companies)"
   ]
  },
  {
   "cell_type": "code",
   "execution_count": 8,
   "id": "0b8ba390-fee7-4bac-8670-3382f18a1ed1",
   "metadata": {},
   "outputs": [],
   "source": [
    "df = df[(df['budget'] > 0) & (df['revenue'] > 0)]\n",
    "df['budget'] = df['budget']/1000_000\n",
    "df['revenue'] = df['revenue']/1000_000\n"
   ]
  },
  {
   "cell_type": "code",
   "execution_count": 9,
   "id": "afcb5084",
   "metadata": {},
   "outputs": [],
   "source": [
    "if 'Internet Movie Database' in df.columns:\n",
    "    df['Internet Movie Database'] = df['Internet Movie Database'].str.replace('/10', '').astype(float) * 10\n",
    "\n",
    "if 'Rotten Tomatoes' in df.columns:\n",
    "    df['Rotten Tomatoes'] = df['Rotten Tomatoes'].str.replace('%', '').astype(float)\n",
    "\n",
    "if 'Metacritic' in df.columns:\n",
    "    df['Metacritic'] = df['Metacritic'].str.replace('/100', '').astype(float)\n"
   ]
  },
  {
   "cell_type": "code",
   "execution_count": 10,
   "id": "228ab861",
   "metadata": {},
   "outputs": [
    {
     "name": "stdout",
     "output_type": "stream",
     "text": [
      "Unique genres after cleaning:\n",
      "['Action', 'Adventure', 'Animation', 'Biography', 'Comedy', 'Crime', 'Documentary', 'Drama', 'Family', 'Fantasy', 'History', 'Horror', 'Music', 'Musical', 'Mystery', 'Romance', 'Sci-Fi', 'Sport', 'Thriller', 'War', 'Western']\n"
     ]
    }
   ],
   "source": [
    "# First, clean the original Genre column\n",
    "df['Genre'] = df['Genre'].str.strip()  # Remove leading/trailing spaces\n",
    "df['Genre'] = df['Genre'].str.replace(' ,', ',')  # Remove spaces before commas\n",
    "df['Genre'] = df['Genre'].str.replace(', ', ',')  # Remove spaces after commas\n",
    "\n",
    "# Then split and normalize individual genres\n",
    "df = df.drop('Genre', axis=1).join(\n",
    "    df['Genre']\n",
    "    .str.split(',')\n",
    "    .explode()\n",
    "    .str.strip()\n",
    "    .rename('Genre')\n",
    ")\n",
    "\n",
    "# Optional: Check for unique genres to verify the cleanup\n",
    "print(\"Unique genres after cleaning:\")\n",
    "print(sorted(df['Genre'].unique()))"
   ]
  },
  {
   "cell_type": "code",
   "execution_count": 11,
   "id": "5c8512c4-8087-46d3-9f1d-457d97bb0b0b",
   "metadata": {},
   "outputs": [],
   "source": [
    "df.to_csv(\"bruno_db.csv\", index=False)"
   ]
  }
 ],
 "metadata": {
  "kernelspec": {
   "display_name": ".venv",
   "language": "python",
   "name": "python3"
  },
  "language_info": {
   "codemirror_mode": {
    "name": "ipython",
    "version": 3
   },
   "file_extension": ".py",
   "mimetype": "text/x-python",
   "name": "python",
   "nbconvert_exporter": "python",
   "pygments_lexer": "ipython3",
   "version": "3.13.3"
  }
 },
 "nbformat": 4,
 "nbformat_minor": 5
}
